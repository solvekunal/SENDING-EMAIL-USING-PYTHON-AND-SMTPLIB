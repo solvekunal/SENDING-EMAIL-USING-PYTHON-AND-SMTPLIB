{
 "cells": [
  {
   "cell_type": "code",
   "execution_count": 1,
   "id": "53841486-f4e3-403e-8682-00aa7f077df0",
   "metadata": {},
   "outputs": [],
   "source": [
    "import smtplib\n",
    "import random\n",
    "import string\n",
    "from email.mime.text import MIMEText\n",
    "from email.mime.multipart import MIMEMultipart"
   ]
  },
  {
   "cell_type": "code",
   "execution_count": 2,
   "id": "b346f8fd-054e-481b-b308-a0f96b4dd75c",
   "metadata": {},
   "outputs": [],
   "source": [
    "# Function to generate a random OTP\n",
    "def generate_otp(length=6):\n",
    "    digits = string.digits\n",
    "    otp = ''.join(random.choice(digits) for i in range(length))\n",
    "    return otp"
   ]
  },
  {
   "cell_type": "code",
   "execution_count": 11,
   "id": "07780223-1b84-4747-b683-df66bd0bcc4e",
   "metadata": {},
   "outputs": [
    {
     "data": {
      "text/plain": [
       "'0123456789'"
      ]
     },
     "execution_count": 11,
     "metadata": {},
     "output_type": "execute_result"
    }
   ],
   "source": [
    "digits = string.digits\n",
    "digits"
   ]
  },
  {
   "cell_type": "code",
   "execution_count": 12,
   "id": "4aee3dfb-57a2-465e-8866-ee4e74ddc4ee",
   "metadata": {},
   "outputs": [
    {
     "data": {
      "text/plain": [
       "'2'"
      ]
     },
     "execution_count": 12,
     "metadata": {},
     "output_type": "execute_result"
    }
   ],
   "source": [
    "random.choice(digits)"
   ]
  },
  {
   "cell_type": "code",
   "execution_count": 13,
   "id": "cdfe229c-3a08-4d0c-9acc-30335068487c",
   "metadata": {},
   "outputs": [
    {
     "data": {
      "text/plain": [
       "'1'"
      ]
     },
     "execution_count": 13,
     "metadata": {},
     "output_type": "execute_result"
    }
   ],
   "source": [
    "random.choice(digits)"
   ]
  },
  {
   "cell_type": "code",
   "execution_count": 17,
   "id": "8efe14d9-e2fb-4768-a348-d4aca89301e8",
   "metadata": {},
   "outputs": [
    {
     "data": {
      "text/plain": [
       "['4', '3', '7']"
      ]
     },
     "execution_count": 17,
     "metadata": {},
     "output_type": "execute_result"
    }
   ],
   "source": [
    "[random.choice(digits) for i in range(3)]"
   ]
  },
  {
   "cell_type": "code",
   "execution_count": 18,
   "id": "74d135fb-9bcf-4ca1-ab55-aa6f1c95ed98",
   "metadata": {},
   "outputs": [
    {
     "data": {
      "text/plain": [
       "['4', '2', '8']"
      ]
     },
     "execution_count": 18,
     "metadata": {},
     "output_type": "execute_result"
    }
   ],
   "source": [
    "[random.choice(digits) for i in range(3)]"
   ]
  },
  {
   "cell_type": "code",
   "execution_count": 19,
   "id": "08baa25b-b1b2-4373-8d1f-069edf517248",
   "metadata": {},
   "outputs": [
    {
     "data": {
      "text/plain": [
       "['0', '1', '9']"
      ]
     },
     "execution_count": 19,
     "metadata": {},
     "output_type": "execute_result"
    }
   ],
   "source": [
    "[random.choice(digits) for i in range(3)]"
   ]
  },
  {
   "cell_type": "code",
   "execution_count": 20,
   "id": "a7740c73-1bef-466a-9a6f-49f1fc94a5fa",
   "metadata": {},
   "outputs": [
    {
     "data": {
      "text/plain": [
       "'6'"
      ]
     },
     "execution_count": 20,
     "metadata": {},
     "output_type": "execute_result"
    }
   ],
   "source": [
    "random.choice('2468')"
   ]
  },
  {
   "cell_type": "code",
   "execution_count": 21,
   "id": "46a445d0-6b85-4800-9521-ab078f1f4904",
   "metadata": {},
   "outputs": [
    {
     "data": {
      "text/plain": [
       "'4'"
      ]
     },
     "execution_count": 21,
     "metadata": {},
     "output_type": "execute_result"
    }
   ],
   "source": [
    "random.choice('2468')"
   ]
  },
  {
   "cell_type": "code",
   "execution_count": 22,
   "id": "d8dfd663-3aed-48c0-b518-95295f30f9cd",
   "metadata": {},
   "outputs": [
    {
     "data": {
      "text/plain": [
       "'6'"
      ]
     },
     "execution_count": 22,
     "metadata": {},
     "output_type": "execute_result"
    }
   ],
   "source": [
    "random.choice('2468')"
   ]
  },
  {
   "cell_type": "code",
   "execution_count": 23,
   "id": "08639f2f-4841-4e6d-83c7-3924a36ba849",
   "metadata": {},
   "outputs": [
    {
     "data": {
      "text/plain": [
       "'8'"
      ]
     },
     "execution_count": 23,
     "metadata": {},
     "output_type": "execute_result"
    }
   ],
   "source": [
    "random.choice('2468')"
   ]
  },
  {
   "cell_type": "code",
   "execution_count": 10,
   "id": "b3b30127-740e-47c5-b42b-4560e8966b1a",
   "metadata": {},
   "outputs": [
    {
     "name": "stdout",
     "output_type": "stream",
     "text": [
      "Email sent successfully!\n"
     ]
    }
   ],
   "source": [
    "import smtplib\n",
    "from email.mime.multipart import MIMEMultipart\n",
    "from email.mime.text import MIMEText\n",
    "\n",
    "# Define email sender and receiver\n",
    "sender_email = 'behappy20041@gmail.com'\n",
    "receiver_email = 'kunal.jcdu@gmail.com'\n",
    "app_password = 'syaa ryxd eqpk zixk'  # Use the App Password here\n",
    "\n",
    "# Create the email message\n",
    "msg = MIMEMultipart()\n",
    "msg['From'] = sender_email\n",
    "msg['To'] = receiver_email\n",
    "msg['Subject'] = 'HAHAHAHA KUNAL IS BACK!!'\n",
    "\n",
    "# Email body\n",
    "body = 'WELCOME TO THE WORLD OF AI. REVOLUTENISE YOUR BUSINESS AND YOUR HOUSE SECURITY WITH OUR AI SOLUTIONS AND AUTOMOTIVE SOLUTIONS!!'\n",
    "msg.attach(MIMEText(body, 'plain'))\n",
    "\n",
    "# Send the email\n",
    "try:\n",
    "    # Connect to the Gmail SMTP server\n",
    "    server = smtplib.SMTP('smtp.gmail.com', 587)\n",
    "    server.starttls()  # Upgrade the connection to secure\n",
    "\n",
    "    # Login to your email account\n",
    "    server.login(sender_email, app_password)\n",
    "\n",
    "    # Send the email\n",
    "    server.send_message(msg)\n",
    "    print('Email sent successfully!')\n",
    "\n",
    "except Exception as e:\n",
    "    print(f'Error: {e}')\n",
    "\n",
    "finally:\n",
    "    # Close the connection\n",
    "    server.quit()"
   ]
  },
  {
   "cell_type": "markdown",
   "id": "8c36ddb4-a360-4e60-ba73-3a885bef1692",
   "metadata": {},
   "source": [
    "# SENDING EMAIL WITH DIFFERENT FORMAT(BOLD LETTERS, BOLD HEADER, MAIN MESSAGE WITH NEW LINE,etc) UISNG HTML CONTENT instead of PLAIN TEXT CONTENT "
   ]
  },
  {
   "cell_type": "code",
   "execution_count": 24,
   "id": "51588031-f499-43d8-be81-3cca1028eae1",
   "metadata": {},
   "outputs": [
    {
     "name": "stdout",
     "output_type": "stream",
     "text": [
      "Email sent successfully!\n"
     ]
    }
   ],
   "source": [
    "import smtplib\n",
    "from email.mime.multipart import MIMEMultipart\n",
    "from email.mime.text import MIMEText\n",
    "\n",
    "# Define email sender and receiver\n",
    "sender_email = 'behappy20041@gmail.com'\n",
    "receiver_email = 'kunal.jcdu@gmail.com'\n",
    "app_password = 'syaa ryxd eqpk zixz'  # Use the App Password here\n",
    "\n",
    "# Create the email message\n",
    "msg = MIMEMultipart()\n",
    "msg['From'] = sender_email\n",
    "msg['To'] = receiver_email\n",
    "msg['Subject'] = 'HAHAHAHA KUNAL IS BACK!!'\n",
    "\n",
    "# Email body\n",
    "#body = 'WELCOME TO THE WORLD OF AI. REVOLUTENISE YOUR BUSINESS AND YOUR HOUSE SECURITY WITH OUR AI SOLUTIONS AND AUTOMOTIVE SOLUTIONS!!'\n",
    "#sg.attach(MIMEText(body, 'plain'))\n",
    "\n",
    "body = '<html><body><h1>Welcome to AI Solutions!</h1><p>Revolutionize your business and home security with our solutions.</p></body></html>'\n",
    "msg.attach(MIMEText(body, 'html'))\n",
    "\n",
    "# Send the email\n",
    "try:\n",
    "    # Connect to the Gmail SMTP server\n",
    "    server = smtplib.SMTP('smtp.gmail.com', 587)\n",
    "    server.starttls()  # Upgrade the connection to secure\n",
    "\n",
    "    # Login to your email account\n",
    "    server.login(sender_email, app_password)\n",
    "\n",
    "    # Send the email\n",
    "    server.send_message(msg)\n",
    "    print('Email sent successfully!')\n",
    "\n",
    "except Exception as e:\n",
    "    print(f'Error: {e}')\n",
    "\n",
    "finally:\n",
    "    # Close the connection\n",
    "    server.quit()"
   ]
  },
  {
   "cell_type": "code",
   "execution_count": null,
   "id": "26eb3b26-8209-4bad-9237-a31c4065a13a",
   "metadata": {},
   "outputs": [],
   "source": []
  }
 ],
 "metadata": {
  "kernelspec": {
   "display_name": "Python 3 (ipykernel)",
   "language": "python",
   "name": "python3"
  },
  "language_info": {
   "codemirror_mode": {
    "name": "ipython",
    "version": 3
   },
   "file_extension": ".py",
   "mimetype": "text/x-python",
   "name": "python",
   "nbconvert_exporter": "python",
   "pygments_lexer": "ipython3",
   "version": "3.12.4"
  }
 },
 "nbformat": 4,
 "nbformat_minor": 5
}
